{
 "cells": [
  {
   "cell_type": "markdown",
   "metadata": {
    "colab_type": "text",
    "id": "4pvaeDpH4MEc"
   },
   "source": [
    "# Advanced NLP HW0\n",
    "\n",
    "Before starting the task please read thoroughly these chapters of Speech and Language Processing by Daniel Jurafsky & James H. Martin:\n",
    "\n",
    "•\tN-gram language models: https://web.stanford.edu/~jurafsky/slp3/3.pdf\n",
    "\n",
    "•\tNeural language models: https://web.stanford.edu/~jurafsky/slp3/7.pdf \n",
    "\n",
    "In this task you will be asked to implement the models described there.\n",
    "\n",
    "Build a text generator based on n-gram language model and neural language model.\n",
    "1.\tFind a corpus (e.g. http://cs.stanford.edu/people/karpathy/char-rnn/shakespeare_input.txt ), but you are free to use anything else of your interest\n",
    "2.\tPreprocess it if necessary (we suggest using nltk for that)\n",
    "3.\tBuild an n-gram model\n",
    "4.\tTry out different values of n, calculate perplexity on a held-out set\n",
    "5.\tBuild a simple neural network model for text generation (start from a feed-forward net for example). We suggest using tensorflow + keras for this task\n",
    "\n",
    "Criteria:\n",
    "1.\tData is split into train / validation / test, motivation for the split method is given\n",
    "2.\tN-gram model is implemented\n",
    "a.\tUnknown words are handled\n",
    "b.\tAdd-k Smoothing is implemented\n",
    "3.\tNeural network for text generation is implemented\n",
    "4.\tPerplexity is calculated for both models\n",
    "5.\tExamples of texts generated with different models are present and compared\n",
    "6.\tOptional: Try both character-based and word-based approaches."
   ]
  },
  {
   "cell_type": "code",
   "execution_count": 1,
   "metadata": {},
   "outputs": [],
   "source": [
    "import numpy as np\n",
    "import pandas as pd\n",
    "\n",
    "import matplotlib.pyplot as plt\n",
    "import seaborn as sns\n",
    "\n",
    "import re\n",
    "import urllib.request as urllib2 #downloading data from url\n",
    "\n",
    "from collections import defaultdict\n",
    "import random\n",
    "\n",
    "import nltk\n",
    "from nltk.lm.preprocessing import padded_everygram_pipeline, padded_everygrams\n",
    "from nltk.lm import MLE, Vocabulary, KneserNeyInterpolated, WittenBellInterpolated, Laplace, Lidstone\n",
    "\n",
    "from sklearn.preprocessing import MinMaxScaler, StandardScaler, MaxAbsScaler\n",
    "from sklearn.model_selection import train_test_split"
   ]
  },
  {
   "cell_type": "code",
   "execution_count": 2,
   "metadata": {},
   "outputs": [],
   "source": [
    "data = list(urllib2.urlopen('https://cs.stanford.edu/people/karpathy/char-rnn/shakespeare_input.txt'))"
   ]
  },
  {
   "cell_type": "code",
   "execution_count": 3,
   "metadata": {},
   "outputs": [],
   "source": [
    "def preproc(data):\n",
    "    data = [line.strip().decode(\"utf-8\")  for line in data]\n",
    "    pat = re.compile(r'((\\b\\w*)|(\\b\\w*\\s?\\b\\w*)):$')\n",
    "    data = [i.lower() for i in data if i]\n",
    "    p = []\n",
    "    speech = ''\n",
    "    for line in data:\n",
    "        if not pat.findall(line):\n",
    "            if not speech:\n",
    "                speech = line\n",
    "            else:\n",
    "                speech += ' ' + line\n",
    "\n",
    "        else:\n",
    "            p.append(speech)\n",
    "            speech = ''\n",
    "    p = [string for string in p if len(string) != 0]\n",
    "    \n",
    "    return p"
   ]
  },
  {
   "cell_type": "code",
   "execution_count": 4,
   "metadata": {},
   "outputs": [],
   "source": [
    "data = preproc(data)"
   ]
  },
  {
   "cell_type": "code",
   "execution_count": 5,
   "metadata": {},
   "outputs": [],
   "source": [
    "appos = {\n",
    "\"aren't\" : \"are not\",\n",
    "\"can't\" : \"cannot\",\n",
    "\"couldn't\" : \"could not\",\n",
    "\"didn't\" : \"did not\",\n",
    "\"doesn't\" : \"does not\",\n",
    "\"don't\" : \"do not\",\n",
    "\"hadn't\" : \"had not\",\n",
    "\"hasn't\" : \"has not\",\n",
    "\"haven't\" : \"have not\",\n",
    "\"he'd\" : \"he would\",\n",
    "\"he'll\" : \"he will\",\n",
    "\"he's\" : \"he is\",\n",
    "\"i'd\" : \"I would\",\n",
    "\"i'd\" : \"I had\",\n",
    "\"i'll\" : \"I will\",\n",
    "\"i'm\" : \"I am\",\n",
    "\"im\" :\"I am\",\n",
    "\"isn't\" : \"is not\",\n",
    "\"its\": \"it is\",\n",
    "\"it's\" : \"it is\",\n",
    "\"it'll\":\"it will\",\n",
    "\"i've\" : \"I have\",\n",
    "\"let's\" : \"let us\",\n",
    "\"mightn't\" : \"might not\",\n",
    "\"mustn't\" : \"must not\",\n",
    "\"shan't\" : \"shall not\",\n",
    "\"she'd\" : \"she would\",\n",
    "\"she'll\" : \"she will\",\n",
    "\"she's\" : \"she is\",\n",
    "\"shouldn't\" : \"should not\",\n",
    "\"that's\" : \"that is\",\n",
    "\"there's\" : \"there is\",\n",
    "\"they'd\" : \"they would\",\n",
    "\"they'll\" : \"they will\",\n",
    "\"they're\" : \"they are\",\n",
    "\"they've\" : \"they have\",\n",
    "\"we'd\" : \"we would\",\n",
    "\"we're\" : \"we are\",\n",
    "\"weren't\" : \"were not\",\n",
    "\"we've\" : \"we have\",\n",
    "\"what'll\" : \"what will\",\n",
    "\"what're\" : \"what are\",\n",
    "\"what's\" : \"what is\",\n",
    "\"what've\" : \"what have\",\n",
    "\"where's\" : \"where is\",\n",
    "\"who'd\" : \"who would\",\n",
    "\"who'll\" : \"who will\",\n",
    "\"who're\" : \"who are\",\n",
    "\"who's\" : \"who is\",\n",
    "\"who've\" : \"who have\",\n",
    "\"won't\" : \"will not\",\n",
    "\"wouldn't\" : \"would not\",\n",
    "\"you'd\" : \"you would\",\n",
    "\"you'll\" : \"you will\",\n",
    "\"you're\" : \"you are\",\n",
    "\"you've\" : \"you have\",\n",
    "\"'re\": \" are\",\n",
    "\"wasn't\": \"was not\",\n",
    "\"we'll\":\" will\",\n",
    "\"won't\":\"will not\",\n",
    "\"didn't\": \"did not\",\n",
    "\"'t'\": ' it', \n",
    "\"'em\": \"them\", \"o'\": \"of\", \"'ll\": \" will\", \"ne'er\":\"never\"\n",
    "}\n",
    "for i, j in appos.items():\n",
    "    for k in range(len(data)):\n",
    "        data[k] = data[k].replace(i, j)   "
   ]
  },
  {
   "cell_type": "code",
   "execution_count": 6,
   "metadata": {},
   "outputs": [],
   "source": [
    "tokenized = list(map(nltk.word_tokenize, data))"
   ]
  },
  {
   "cell_type": "code",
   "execution_count": 9,
   "metadata": {},
   "outputs": [
    {
     "data": {
      "text/plain": [
       "[['before',\n",
       "  'we',\n",
       "  'proceed',\n",
       "  'any',\n",
       "  'further',\n",
       "  ',',\n",
       "  'hear',\n",
       "  'me',\n",
       "  'speak',\n",
       "  '.'],\n",
       " ['speak', ',', 'speak', '.'],\n",
       " ['you',\n",
       "  'are',\n",
       "  'all',\n",
       "  'resolved',\n",
       "  'rather',\n",
       "  'to',\n",
       "  'die',\n",
       "  'than',\n",
       "  'to',\n",
       "  'famish',\n",
       "  '?'],\n",
       " ['resolved', '.', 'resolved', '.']]"
      ]
     },
     "execution_count": 9,
     "metadata": {},
     "output_type": "execute_result"
    }
   ],
   "source": [
    "tokenized[0:4]"
   ]
  },
  {
   "cell_type": "markdown",
   "metadata": {
    "colab_type": "text",
    "id": "m7FEwRuO6og0"
   },
   "source": [
    "## Models\n",
    "\n",
    "Base class for the model."
   ]
  },
  {
   "cell_type": "code",
   "execution_count": 10,
   "metadata": {
    "colab": {},
    "colab_type": "code",
    "id": "xWBs4AoC4JfO"
   },
   "outputs": [],
   "source": [
    "class BaseLM:\n",
    "    \n",
    "    def __init__(self, n, vocab = None):\n",
    "    \n",
    "        \"\"\"Language model constructor\n",
    "        n -- n-gram size\n",
    "        vocab -- optional fixed vocabulary for the model\n",
    "        \"\"\"\n",
    "        self.n = n\n",
    "        self.vocab = vocab\n",
    "        self.corpus = []\n",
    "        self.dic = defaultdict(lambda: defaultdict(lambda: 0))\n",
    "        \n",
    "        def generate_corpus():\n",
    "            \n",
    "            for speech in self.vocab:\n",
    "\n",
    "                ngram = nltk.ngrams([word for word in speech], self.n+1, pad_right=True, pad_left=True)\n",
    "                self.corpus.append(list(ngram))\n",
    "\n",
    "            \n",
    "            for ngram in [item for sublist in self.corpus for item in sublist]:\n",
    "                self.dic[(ngram[:-1])][ngram[-1]] += 1\n",
    "\n",
    "            for key in self.dic.keys():\n",
    "                total = float(sum(self.dic[key].values()))\n",
    "                for value in self.dic[key]:\n",
    "                    self.dic[(key)][value] /= total\n",
    "                \n",
    "\n",
    "        generate_corpus()\n",
    "    \n",
    "\n",
    "    def prob(self, word, context=None):\n",
    "        \"\"\"This method returns probability of a word with given context: P(w_t | w_{t - 1}...w_{t - n + 1})\n",
    "\n",
    "        For example:\n",
    "        >>> lm.prob('hello', context=('world',))\n",
    "        0.99988\n",
    "        \"\"\"\n",
    "        \n",
    "        if word in self.dic[tuple(context.split(' '))].keys():\n",
    "            print(self.dic[tuple(context.split(' '))][word])\n",
    "        else:\n",
    "            print('There is no such sequence in corpus!')\n",
    "        \n",
    "    def generate_text(self, text_length):\n",
    "        \"\"\"This method generates random text of length \n",
    "\n",
    "        For example\n",
    "        >>> lm.generate_text(2)\n",
    "        hello world\n",
    "\n",
    "        \"\"\"\n",
    "        text = list(list(self.dic.keys())[random.randint(0, len(self.dic))])\n",
    "        endpoint = 0\n",
    "\n",
    "        while len(text)<=text_length:\n",
    "            prob = 0\n",
    "\n",
    "            for word in self.dic[tuple(text[(self.n*(-1)):])].keys():\n",
    "                prob += self.dic[tuple(text[(self.n*(-1)):])][word]\n",
    "\n",
    "                if prob >= np.random.randn():\n",
    "                    text.append(word)\n",
    "                    break\n",
    "        print(' '.join([w for w in text if w]))\n",
    "    \n",
    "\n",
    "    def update(self, sequence_of_tokens):\n",
    "        \"\"\"This method learns probabiities based on given sequence of tokents\n",
    "    \n",
    "        sequence_of_tokens -- iterable of tokens\n",
    "\n",
    "        For example\n",
    "        >>> lm.update(['hello', 'world'])\n",
    "        \"\"\"\n",
    "        raise NotImplementedError\n",
    "    \n",
    "    def perplexity(self, sequence_of_tokens):\n",
    "        \"\"\"This method returns perplexity for a given sequence of tokens\n",
    "    \n",
    "        sequence_of_tokens -- iterable of tokens\n",
    "        \"\"\"\n",
    "        raise NotImplementedError  "
   ]
  },
  {
   "cell_type": "code",
   "execution_count": 11,
   "metadata": {},
   "outputs": [],
   "source": [
    "blm = BaseLM(3, tokenized)"
   ]
  },
  {
   "cell_type": "code",
   "execution_count": 13,
   "metadata": {},
   "outputs": [
    {
     "data": {
      "text/plain": [
       "[[(None, None, None, 'before'),\n",
       "  (None, None, 'before', 'we'),\n",
       "  (None, 'before', 'we', 'proceed'),\n",
       "  ('before', 'we', 'proceed', 'any'),\n",
       "  ('we', 'proceed', 'any', 'further'),\n",
       "  ('proceed', 'any', 'further', ','),\n",
       "  ('any', 'further', ',', 'hear'),\n",
       "  ('further', ',', 'hear', 'me'),\n",
       "  (',', 'hear', 'me', 'speak'),\n",
       "  ('hear', 'me', 'speak', '.'),\n",
       "  ('me', 'speak', '.', None),\n",
       "  ('speak', '.', None, None),\n",
       "  ('.', None, None, None)],\n",
       " [(None, None, None, 'speak'),\n",
       "  (None, None, 'speak', ','),\n",
       "  (None, 'speak', ',', 'speak'),\n",
       "  ('speak', ',', 'speak', '.'),\n",
       "  (',', 'speak', '.', None),\n",
       "  ('speak', '.', None, None),\n",
       "  ('.', None, None, None)],\n",
       " [(None, None, None, 'you'),\n",
       "  (None, None, 'you', 'are'),\n",
       "  (None, 'you', 'are', 'all'),\n",
       "  ('you', 'are', 'all', 'resolved'),\n",
       "  ('are', 'all', 'resolved', 'rather'),\n",
       "  ('all', 'resolved', 'rather', 'to'),\n",
       "  ('resolved', 'rather', 'to', 'die'),\n",
       "  ('rather', 'to', 'die', 'than'),\n",
       "  ('to', 'die', 'than', 'to'),\n",
       "  ('die', 'than', 'to', 'famish'),\n",
       "  ('than', 'to', 'famish', '?'),\n",
       "  ('to', 'famish', '?', None),\n",
       "  ('famish', '?', None, None),\n",
       "  ('?', None, None, None)]]"
      ]
     },
     "execution_count": 13,
     "metadata": {},
     "output_type": "execute_result"
    }
   ],
   "source": [
    "blm.corpus[0:3]"
   ]
  },
  {
   "cell_type": "code",
   "execution_count": 14,
   "metadata": {},
   "outputs": [
    {
     "name": "stdout",
     "output_type": "stream",
     "text": [
      "be low . before we proceed any further , examine your conscience : and dying so , death is my son-in-law , death is to hI amself and knew no other kin . before you can say , god shorten harry 's happy life one day ! we know't , we know't . before we make election , give me leave to go . before thee stands this fair hesperides , with golden fruit , but dangerous to be aged in any kind of art . heaven and yourself had part in this fair maid ; before thy coming lewis was henry 's friend . o , me alone ! make you a sword of me ? before thy coming lewis was henry 's friend . o , me ! you are like to sir vincentio . his name and orderly proceed to swear hI am in a holiday humour and like enough to consent . what would you have , i know a way , out of thy long-experienced tI ame , but hearts for the event . before we proceed any further , hear me speak . speak , count , 't is true that you have lately told us ; the volsces are in arms , and swore he would never have loved the moor , the chafed boar , the mountain lioness , the ocean swells not so as aaron storms . but say , i prove a needless coward ! what , shall i groan and tell thee ? you are all resolved rather to die than thou art . speak it again , and the bleared sights are spectacled to see hI am pluck 'd either his gracious promise , which you do here forbid me , royal sir ; election makes not up on such conditions . speak , speak . nay , more , some parcels of their power are forth already , and only that i stand up , i know not . before the tI ame , for what he comes , to rend his lI ambs asunder . ah , gaunt , his blood was poor , upon the sudden , i warrant you , and you slander the helms o ' the state , who care for you : pray you , daughter , i sprang not more in parting than greatness going off . speak , speak . before thy coming lewis was henry 's friend . before we proceed any further , examine your conscience : and dying so , death is my son-in-law , death is my son-in-law , death is my son-in-law , be yet my nephew : my brother 's guard , even\n"
     ]
    }
   ],
   "source": [
    "blm.generate_text(500)"
   ]
  },
  {
   "cell_type": "code",
   "execution_count": 15,
   "metadata": {},
   "outputs": [
    {
     "name": "stdout",
     "output_type": "stream",
     "text": [
      "1.0\n"
     ]
    }
   ],
   "source": [
    "blm.prob('any', 'before we proceed')"
   ]
  }
 ],
 "metadata": {
  "accelerator": "GPU",
  "colab": {
   "collapsed_sections": [],
   "name": "NLP_HW0_REF.ipynb",
   "provenance": []
  },
  "kernelspec": {
   "display_name": "Python 3",
   "language": "python",
   "name": "python3"
  },
  "language_info": {
   "codemirror_mode": {
    "name": "ipython",
    "version": 3
   },
   "file_extension": ".py",
   "mimetype": "text/x-python",
   "name": "python",
   "nbconvert_exporter": "python",
   "pygments_lexer": "ipython3",
   "version": "3.7.3"
  }
 },
 "nbformat": 4,
 "nbformat_minor": 4
}
